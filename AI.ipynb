{
 "cells": [
  {
   "cell_type": "code",
   "execution_count": 1,
   "metadata": {},
   "outputs": [],
   "source": [
    "# pip install openai\n"
   ]
  },
  {
   "cell_type": "code",
   "execution_count": 2,
   "metadata": {},
   "outputs": [],
   "source": [
    "#pip install langchain"
   ]
  },
  {
   "cell_type": "code",
   "execution_count": 3,
   "metadata": {},
   "outputs": [],
   "source": [
    "import openai\n",
    "from langchain.document_loaders import GoogleDriveLoader\n",
    "import os"
   ]
  },
  {
   "cell_type": "code",
   "execution_count": 4,
   "metadata": {},
   "outputs": [],
   "source": [
    "import google.auth\n",
    "from google.auth.transport.requests import Request\n",
    "from google.oauth2.credentials import Credentials\n",
    "\n",
    "import openai"
   ]
  },
  {
   "cell_type": "code",
   "execution_count": 5,
   "metadata": {},
   "outputs": [],
   "source": [
    "#pip install --upgrade google-api-python-client google-auth-httplib2 google-auth-oauthlib\n"
   ]
  },
  {
   "cell_type": "code",
   "execution_count": 6,
   "metadata": {},
   "outputs": [],
   "source": [
    "# pip install --upgrade google-auth google-auth-oauthlib google-auth-httplib2\n"
   ]
  },
  {
   "cell_type": "markdown",
   "metadata": {},
   "source": [
    "Google Docs Retrieval"
   ]
  },
  {
   "cell_type": "code",
   "execution_count": 8,
   "metadata": {},
   "outputs": [
    {
     "name": "stdout",
     "output_type": "stream",
     "text": [
      "I am Shreya Sharan Emanti.I am free on 15th June 2024 from 9am to 1pm.I am free on 15th June 2024 from 3pm to 5:30pm.I am free on 16th June 2024 from 10:30am to 1:30pm.I am free on 16th June 2024 from 2:30pm to 4pm.I am free on 17th June 2024 from 9am to 12pm.I am free on 17th June 2024 from 2pm to 6pm.I am free on 18th June 2024 from 9:30am to 11:30pm.I am free on 18th June 2024 from 3pm to 5:30pm.I am free on 19th June 2024 from 9:30am to 1:30pm.I am free on 19th June 2024 from 2:30pm to 6:30pm. After they confirm to book an appointment for a time slot with date, start time, end time, Provide a message - Thank you for booking an appointment with Shreya on date and time in the exact format for example, - June 2 3:00pm to June 2 3:30pm. Do not print the year in the thank you message.\n",
      "\n"
     ]
    }
   ],
   "source": [
    "import os.path\n",
    "from google.auth.transport.requests import Request\n",
    "from google.oauth2.credentials import Credentials\n",
    "from google_auth_oauthlib.flow import InstalledAppFlow\n",
    "from googleapiclient.discovery import build\n",
    "from googleapiclient.errors import HttpError\n",
    "\n",
    "\n",
    "SCOPES = [\"https://www.googleapis.com/auth/documents.readonly\"]\n",
    "\n",
    "# The ID of a sample document.\n",
    "DOCUMENT_ID = \"1gmXENZiRJ1te56lqNRAARbp_7S8Uto5Kd1p-PUgzABU\"\n",
    "\n",
    "creds = None\n",
    "# The file token.json stores the user's access and refresh tokens, and is\n",
    "# created automatically when the authorization flow completes for the first\n",
    "# time.\n",
    "if os.path.exists(\"token_doc.json\"):\n",
    "  creds = Credentials.from_authorized_user_file(\"token_doc.json\", SCOPES)\n",
    "# If there are no (valid) credentials available, let the user log in.\n",
    "if not creds or not creds.valid:\n",
    "  if creds and creds.expired and creds.refresh_token:\n",
    "    creds.refresh(Request())\n",
    "  else:\n",
    "    flow = InstalledAppFlow.from_client_secrets_file(\n",
    "        \"credentials.json\", SCOPES\n",
    "    )\n",
    "    creds = flow.run_local_server(port=0)\n",
    "  # Save the credentials for the next run\n",
    "  with open(\"token_doc.json\", \"w\") as token:\n",
    "    token.write(creds.to_json())\n",
    "\n",
    "try:\n",
    "  service_doc = build(\"docs\", \"v1\", credentials=creds)\n",
    "  \n",
    "  # Retrieve the documents contents from the Docs service.\n",
    "  document = service_doc.documents().get(documentId=DOCUMENT_ID).execute()\n",
    "  contents = document.get('body')\n",
    "  desired_content = contents[\"content\"][1][\"paragraph\"][\"elements\"][0][\"textRun\"][\"content\"]\n",
    "  print(desired_content)\n",
    "  with open('filetry.txt', 'w') as f:\n",
    "    data=desired_content\n",
    "    f.write(data)\n",
    "  #print(f\"The body of the document is: {document.get('body')['content']}\")\n",
    "except HttpError as err:\n",
    "  print(err)"
   ]
  },
  {
   "cell_type": "code",
   "execution_count": 9,
   "metadata": {},
   "outputs": [],
   "source": [
    "#pip install langchain_openai"
   ]
  },
  {
   "cell_type": "code",
   "execution_count": 10,
   "metadata": {},
   "outputs": [],
   "source": [
    "#pip install pytz"
   ]
  },
  {
   "cell_type": "markdown",
   "metadata": {},
   "source": [
    "Converting Input Date and time to ISO format"
   ]
  },
  {
   "cell_type": "code",
   "execution_count": 11,
   "metadata": {},
   "outputs": [],
   "source": [
    "from datetime import datetime\n",
    "import pytz\n",
    "#2024-06-05T15:00:00-07:00\n",
    "def func_time(user_input):\n",
    "    # User input\n",
    "    user_input = user_input\n",
    "\n",
    "    # Parse the input date and time\n",
    "    appointment_time = datetime.strptime(user_input, \"%B %dth %I:%M%p\")\n",
    "\n",
    "    # Set the timezone to UTC-7\n",
    "    timezone = pytz.timezone('America/Denver')  # UTC-7 timezone\n",
    "    appointment_time = timezone.localize(appointment_time)\n",
    "\n",
    "    # Change the year\n",
    "    new_year = 2024  # Change to the desired year\n",
    "    appointment_time = appointment_time.replace(year=new_year)\n",
    "\n",
    "    # Format the datetime in the desired format\n",
    "    formatted_datetime = appointment_time.strftime(\"%Y-%m-%dT%H:%M:%S\")\n",
    "\n",
    "    # Get the timezone offset\n",
    "    timezone_offset = appointment_time.strftime(\"%z\")\n",
    "    # Insert the colon into the timezone offset\n",
    "    formatted_datetime += timezone_offset[:-2] + ':' + timezone_offset[-2:]\n",
    "\n",
    "    return formatted_datetime\n"
   ]
  },
  {
   "cell_type": "markdown",
   "metadata": {},
   "source": [
    "Google Calendar Booking"
   ]
  },
  {
   "cell_type": "code",
   "execution_count": 13,
   "metadata": {},
   "outputs": [
    {
     "name": "stdout",
     "output_type": "stream",
     "text": [
      "User Prompt: \n",
      "Book an appointment on June 19th 3pm to 4pm\n",
      "Creating the appointment\n",
      "Event created: https://www.google.com/calendar/event?eid=NmJlbjA4YTMzNmtyMm01OWx0cW91a3BmajAgc2hyZXlhLnNoYXJhbi5lbWFudGlAbQ\n",
      "Thank you for booking an appointment with Shreya on June 19 3:00pm to June 19 4:00pm.\n",
      "User Prompt: \n",
      "Book an appointment June 19th 11am to 11:30am\n",
      "Creating the appointment\n",
      "Event created: https://www.google.com/calendar/event?eid=MjIzcGgwOGt1bzQxbTdrcnIxMWxsYzdpbDQgc2hyZXlhLnNoYXJhbi5lbWFudGlAbQ\n",
      "Thank you for booking an appointment with Shreya on June 19 11:00am to June 19 11:30am.\n",
      "User Prompt: \n",
      "ok\n",
      "How can I assist you today?\n",
      "User Prompt: \n",
      "Book an appointment on June 15th 9am to 9:30am\n",
      "Creating the appointment\n",
      "Event created: https://www.google.com/calendar/event?eid=dGZxYzNzbm5jMWxkbHRrZjR0bm1wMzdjbTggc2hyZXlhLnNoYXJhbi5lbWFudGlAbQ\n",
      "Thank you for booking an appointment with Shreya on June 15 9:00am to June 15 9:30am.\n",
      "User Prompt: \n",
      "Book an appointment on June 16th 11am to 11:30am\n",
      "Creating the appointment\n",
      "Event created: https://www.google.com/calendar/event?eid=aTZoOWM0aGJwODh2MmltMG5lYjQ4Y25mcW8gc2hyZXlhLnNoYXJhbi5lbWFudGlAbQ\n",
      "Thank you for booking an appointment with Shreya on June 16 11:00am to June 16 11:30am.\n",
      "User Prompt: \n",
      "ok\n",
      "Hello! How can I assist you today?\n",
      "User Prompt: \n",
      "Book an appointment on June 16th 1pm to 1:30pm\n",
      "Creating the appointment\n",
      "Event created: https://www.google.com/calendar/event?eid=cTljb2xkYTNhMWxycXY0czRjaXVxa2RnaGMgc2hyZXlhLnNoYXJhbi5lbWFudGlAbQ\n",
      "Thank you for booking an appointment with Shreya on June 16 1:00pm to June 16 1:30pm.\n",
      "User Prompt: \n",
      "ok\n",
      "Hello! How can I assist you today?\n",
      "User Prompt: \n",
      "Thank you\n"
     ]
    }
   ],
   "source": [
    "import os\n",
    "import sys\n",
    "import warnings\n",
    "from langchain_openai.embeddings import OpenAIEmbeddings \n",
    "from langchain_community.document_loaders import TextLoader\n",
    "from langchain_community.document_loaders import DirectoryLoader\n",
    "from langchain.indexes import VectorstoreIndexCreator\n",
    "from langchain_community.llms import openai\n",
    "from langchain_community.chat_models import ChatOpenAI\n",
    "warnings.filterwarnings(\"ignore\")\n",
    "from datetime import datetime\n",
    "import pytz\n",
    "#2024-06-05T15:00:00-07:00\n",
    "import os.path\n",
    "\n",
    "from google.auth.transport.requests import Request\n",
    "from google.oauth2.credentials import Credentials\n",
    "from google_auth_oauthlib.flow import InstalledAppFlow\n",
    "from googleapiclient.discovery import build\n",
    "from googleapiclient.errors import HttpError\n",
    "\n",
    "SCOPES_C = [\"https://www.googleapis.com/auth/calendar\"]\n",
    "creds = None\n",
    "  # The file token.json stores the user's access and refresh tokens, and is\n",
    "  # created automatically when the authorization flow completes for the first\n",
    "  # time.\n",
    "if os.path.exists(\"token_cal.json\"):\n",
    "    creds = Credentials.from_authorized_user_file(\"token_cal.json\", SCOPES_C)\n",
    "  # If there are no (valid) credentials available, let the user log in.\n",
    "if not creds or not creds.valid:\n",
    "      if creds and creds.expired and creds.refresh_token:\n",
    "        creds.refresh(Request())\n",
    "      else:\n",
    "        flow = InstalledAppFlow.from_client_secrets_file(\n",
    "          \"credentials.json\", SCOPES_C\n",
    "        )\n",
    "        creds = flow.run_local_server(port=0)\n",
    "    # Save the credentials for the next run\n",
    "      with open(\"token_cal.json\", \"w\") as token:\n",
    "            token.write(creds.to_json())\n",
    "service_cal = build(\"calendar\", \"v3\", credentials=creds)\n",
    "def main(start_date_time, end_date_time):\n",
    "  \"\"\"Shows basic usage of the Google Calendar API.\n",
    "  Prints the start and name of the next 10 events on the user's calendar.\n",
    "  \"\"\"\n",
    "  try:\n",
    "    print(\"Creating the appointment\")\n",
    "    \n",
    "    event ={\n",
    "        'summary': 'Chatbot Booked Meeting',\n",
    "        'start': {\n",
    "          'dateTime': start_date_time,\n",
    "          'timeZone': 'America/Los_Angeles',\n",
    "        },\n",
    "        'end': {\n",
    "          'dateTime': end_date_time,\n",
    "          'timeZone': 'America/Los_Angeles',\n",
    "        },\n",
    "    }\n",
    "    event = service_cal.events().insert(calendarId='primary', body=event).execute()\n",
    "    print('Event created: %s' % (event.get('htmlLink')))\n",
    "\n",
    "  except HttpError as error:\n",
    "    print(f\"An error occurred: {error}\")\n",
    "\n",
    "\n",
    "os.environ[\"OPENAI_API_KEY\"] = \"Enter your openai API key here\"\n",
    "\n",
    "while 1:\n",
    "    query = input(\"Enter your prompt: \")\n",
    "    print(\"User Prompt: \")\n",
    "    print(query)\n",
    "    if(str(query)==\"Thank you\"):\n",
    "      break\n",
    "    loader = TextLoader('filetry.txt')\n",
    "    index = VectorstoreIndexCreator(embedding=OpenAIEmbeddings()).from_loaders([loader])\n",
    "    \n",
    "    chat_displayed=index.query(query, llm = ChatOpenAI())\n",
    "    try:\n",
    "      if \"Thank you\" in chat_displayed:\n",
    "        each_word=chat_displayed.split()\n",
    "        req=each_word[-7:]\n",
    "        #print(req)\n",
    "        st=req[0]+\" \"+req[1]+\" \"+req[2]\n",
    "        stt=st.replace(\",\",\"th\")\n",
    "        #print(stt)\n",
    "        new_st=stt.split()\n",
    "        #print(new_st)\n",
    "        #print(new_st[1])\n",
    "        start_date_time=0\n",
    "        if \"th\" not in str(new_st[1]):\n",
    "          starttime=new_st[0]+\" \"+new_st[1]+\"th \"+new_st[2]\n",
    "          start_date_time=func_time(starttime)\n",
    "          #print(start_date_time)\n",
    "        et=req[4]+\" \"+req[5]+\" \"+req[6]\n",
    "        et2=et.replace(\",\",\"th\")\n",
    "        ett=et2.replace(\".\",\"\")\n",
    "        new_et=ett.split()\n",
    "        end_date_time=0\n",
    "        if \"th\" not in str(new_et[1]):\n",
    "          endtime=new_et[0]+\" \"+new_et[1]+\"th \"+new_et[2]\n",
    "          #print(endtime)\n",
    "          end_date_time=func_time(endtime)\n",
    "          #print(end_date_time)\n",
    "        if __name__ == \"__main__\":\n",
    "          main(start_date_time,end_date_time)\n",
    "    except:\n",
    "      print(\"Please restart the conversation.\")\n",
    "    print(chat_displayed)\n",
    "    "
   ]
  }
 ],
 "metadata": {
  "kernelspec": {
   "display_name": "test",
   "language": "python",
   "name": "python3"
  },
  "language_info": {
   "codemirror_mode": {
    "name": "ipython",
    "version": 3
   },
   "file_extension": ".py",
   "mimetype": "text/x-python",
   "name": "python",
   "nbconvert_exporter": "python",
   "pygments_lexer": "ipython3",
   "version": "3.11.9"
  }
 },
 "nbformat": 4,
 "nbformat_minor": 2
}
